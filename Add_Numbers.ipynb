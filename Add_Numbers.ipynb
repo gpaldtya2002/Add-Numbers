{
  "nbformat": 4,
  "nbformat_minor": 0,
  "metadata": {
    "colab": {
      "provenance": [],
      "authorship_tag": "ABX9TyNP6S3sEnYYs8P8uRLB6qzP",
      "include_colab_link": true
    },
    "kernelspec": {
      "name": "python3",
      "display_name": "Python 3"
    },
    "language_info": {
      "name": "python"
    }
  },
  "cells": [
    {
      "cell_type": "markdown",
      "metadata": {
        "id": "view-in-github",
        "colab_type": "text"
      },
      "source": [
        "<a href=\"https://colab.research.google.com/github/gpaldtya2002/Add-Numbers/blob/main/Add_Numbers.ipynb\" target=\"_parent\"><img src=\"https://colab.research.google.com/assets/colab-badge.svg\" alt=\"Open In Colab\"/></a>"
      ]
    },
    {
      "cell_type": "code",
      "execution_count": null,
      "metadata": {
        "colab": {
          "base_uri": "https://localhost:8080/"
        },
        "id": "uBBFfky69Ix8",
        "outputId": "f9b6fc1e-3b12-4b0a-a1b4-53212af21738"
      },
      "outputs": [
        {
          "output_type": "stream",
          "name": "stdout",
          "text": [
            "26.1\n"
          ]
        }
      ],
      "source": [
        "# this is the code to add any number of values\n",
        "a= 4.5\n",
        "b= 9\n",
        "c= 12.6\n",
        "d= a + b + c\n",
        "print(d)\n",
        "# or else\n",
        "# print(\"a+b+c=\", a+b+c)"
      ]
    }
  ]
}