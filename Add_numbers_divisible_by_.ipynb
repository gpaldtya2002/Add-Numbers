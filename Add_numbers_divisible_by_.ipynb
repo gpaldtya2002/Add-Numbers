{
  "nbformat": 4,
  "nbformat_minor": 0,
  "metadata": {
    "colab": {
      "provenance": [],
      "authorship_tag": "ABX9TyN0zaMDM4WKiPZifzf7Osna",
      "include_colab_link": true
    },
    "kernelspec": {
      "name": "python3",
      "display_name": "Python 3"
    },
    "language_info": {
      "name": "python"
    }
  },
  "cells": [
    {
      "cell_type": "markdown",
      "metadata": {
        "id": "view-in-github",
        "colab_type": "text"
      },
      "source": [
        "<a href=\"https://colab.research.google.com/github/gpaldtya2002/Add-Numbers/blob/main/Add_numbers_divisible_by_.ipynb\" target=\"_parent\"><img src=\"https://colab.research.google.com/assets/colab-badge.svg\" alt=\"Open In Colab\"/></a>"
      ]
    },
    {
      "cell_type": "markdown",
      "source": [
        "### WAP to add all numbers divisible by 7 and 9 from 1 to n and n is given by the user."
      ],
      "metadata": {
        "id": "QO7r_XEkdifX"
      }
    },
    {
      "cell_type": "code",
      "source": [
        "n= int(input(\"Enter a no:\"))\n",
        "s=0\n",
        "for i in range(1,n+1):\n",
        "  if i%7==0:\n",
        "    s=s+i\n",
        "  elif i%9==0:\n",
        "    s=s+i\n",
        "print(\"The sum of numbers divisible by 7 and 9 between 1 and\", n, \"is:\", s)"
      ],
      "metadata": {
        "colab": {
          "base_uri": "https://localhost:8080/"
        },
        "id": "WQtDGkkFw6A1",
        "outputId": "98a77482-80b1-4d61-a825-b62477735cef"
      },
      "execution_count": null,
      "outputs": [
        {
          "output_type": "stream",
          "name": "stdout",
          "text": [
            "Enter a no:5\n",
            "The sum of numbers divisible by 7 and 9 between 1 and 5 is: 0\n"
          ]
        }
      ]
    }
  ]
}