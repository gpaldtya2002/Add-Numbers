{
  "nbformat": 4,
  "nbformat_minor": 0,
  "metadata": {
    "colab": {
      "provenance": [],
      "authorship_tag": "ABX9TyNV0cnzDO6pqiCUmlmPyvUx",
      "include_colab_link": true
    },
    "kernelspec": {
      "name": "python3",
      "display_name": "Python 3"
    },
    "language_info": {
      "name": "python"
    }
  },
  "cells": [
    {
      "cell_type": "markdown",
      "metadata": {
        "id": "view-in-github",
        "colab_type": "text"
      },
      "source": [
        "<a href=\"https://colab.research.google.com/github/gpaldtya2002/Add-Numbers/blob/main/Add_prime_numbers.ipynb\" target=\"_parent\"><img src=\"https://colab.research.google.com/assets/colab-badge.svg\" alt=\"Open In Colab\"/></a>"
      ]
    },
    {
      "cell_type": "markdown",
      "source": [
        "### WAP to add all prime numbers from 1 to n and n is given by the user."
      ],
      "metadata": {
        "id": "wRC4iAl3eRRI"
      }
    },
    {
      "cell_type": "code",
      "source": [
        "N= int(input(\"Enter a number to find prime numbers from 1 to N and calculate their sum: \"))\n",
        "s=0\n",
        "for n in range(2,N+1):\n",
        "  f=0\n",
        "  for i in range(2, n//2 +1):\n",
        "    if n % i == 0:\n",
        "      f=1\n",
        "      break\n",
        "  if f==0:\n",
        "    print(n, \"is Prime\")\n",
        "    s=s+n\n",
        "print(\"The sum of all prime numbers from 1 to\", N, \"is:\", s)"
      ],
      "metadata": {
        "id": "nyaBP22Mw6ew",
        "colab": {
          "base_uri": "https://localhost:8080/"
        },
        "outputId": "ffba64ef-922c-48fe-cbab-fc3e5558b35a"
      },
      "execution_count": 1,
      "outputs": [
        {
          "output_type": "stream",
          "name": "stdout",
          "text": [
            "Enter a number to find prime numbers from 1 to N and calculate their sum: 19\n",
            "2 is Prime\n",
            "3 is Prime\n",
            "5 is Prime\n",
            "7 is Prime\n",
            "11 is Prime\n",
            "13 is Prime\n",
            "17 is Prime\n",
            "19 is Prime\n",
            "The sum of all prime numbers from 1 to 19 is: 77\n"
          ]
        }
      ]
    }
  ]
}